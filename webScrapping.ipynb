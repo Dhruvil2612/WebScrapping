{
 "cells": [
  {
   "cell_type": "code",
   "execution_count": 19,
   "metadata": {},
   "outputs": [],
   "source": [
    "from selenium import webdriver\n",
    "from bs4 import BeautifulSoup\n",
    "import pandas as pd\n",
    "driver = webdriver.Chrome(\"chromedriver\")\n",
    "products=[] #List to store name of the product\n",
    "prices=[] #List to store price of the product\n",
    "ratings=[] #List to store rating of the product\n",
    "driver.get(\"https://www.amazon.in/s?i=electronics&bbn=1389432031&rh=n%3A1389432031%2Cp_85%3A10440599031%2Cp_36%3A400000-1000000&pd_rd_r=67b37192-12f5-443d-a571-2c12224ee356&pd_rd_w=CMTUy&pd_rd_wg=0ziES&pf_rd_p=04635875-775c-4bf0-b81d-c9df5ebfba3d&pf_rd_r=M4F0Y5X8TZENK95EM25N&qid=1626802564&rnid=1318502031&ref=pd_gw_unk\")\n",
    "content = driver.page_source\n",
    "soup = BeautifulSoup(content)\n",
    "for element in soup.findAll('div', attrs={'class':'sg-col-4-of-12 s-result-item s-asin sg-col-4-of-16 AdHolder sg-col sg-col-4-of-20'}):\n",
    "    name=element.find('h2', attrs={'class':'a-size-mini a-spacing-none a-color-base s-line-clamp-4'})\n",
    "    price=element.find('span', attrs={'class':'a-price'})\n",
    "    rating=element.find('div', attrs={'class':'a-section a-spacing-none a-spacing-top-micro'})\n",
    "    \n",
    "    try:\n",
    "        products.append(name.text)\n",
    "        prices.append(price.text)\n",
    "        ratings.append(rating.text)\n",
    "    \n",
    "    except:\n",
    "        continue\n",
    "\n",
    "df = pd.DataFrame({'Name':products,'Price':prices,'Rating':ratings}) \n",
    "df.to_csv('amazon.csv', index=False, encoding='utf-8')"
   ]
  },
  {
   "cell_type": "code",
   "execution_count": null,
   "metadata": {},
   "outputs": [],
   "source": []
  }
 ],
 "metadata": {
  "kernelspec": {
   "display_name": "Python 3",
   "language": "python",
   "name": "python3"
  },
  "language_info": {
   "codemirror_mode": {
    "name": "ipython",
    "version": 3
   },
   "file_extension": ".py",
   "mimetype": "text/x-python",
   "name": "python",
   "nbconvert_exporter": "python",
   "pygments_lexer": "ipython3",
   "version": "3.8.5"
  }
 },
 "nbformat": 4,
 "nbformat_minor": 4
}
